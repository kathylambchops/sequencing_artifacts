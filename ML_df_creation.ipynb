{
 "cells": [
  {
   "cell_type": "markdown",
   "id": "69b56492-4cb6-4c71-b189-b42f96c81ea9",
   "metadata": {},
   "source": [
    "# Try joining L and R features into 1 feature"
   ]
  },
  {
   "cell_type": "code",
   "execution_count": null,
   "id": "f47e2422-6602-4eeb-a7ee-a6d077d8b9d5",
   "metadata": {},
   "outputs": [
    {
     "data": {
      "text/html": [
       "<div>\n",
       "<style scoped>\n",
       "    .dataframe tbody tr th:only-of-type {\n",
       "        vertical-align: middle;\n",
       "    }\n",
       "\n",
       "    .dataframe tbody tr th {\n",
       "        vertical-align: top;\n",
       "    }\n",
       "\n",
       "    .dataframe thead th {\n",
       "        text-align: right;\n",
       "    }\n",
       "</style>\n",
       "<table border=\"1\" class=\"dataframe\">\n",
       "  <thead>\n",
       "    <tr style=\"text-align: right;\">\n",
       "      <th></th>\n",
       "      <th></th>\n",
       "      <th>REF</th>\n",
       "      <th>ALT</th>\n",
       "      <th>AF</th>\n",
       "      <th>HIAF</th>\n",
       "      <th>HICNT</th>\n",
       "      <th>VD</th>\n",
       "      <th>SN</th>\n",
       "      <th>ADJAF</th>\n",
       "      <th>L_A</th>\n",
       "      <th>L_T</th>\n",
       "      <th>...</th>\n",
       "      <th>R_TTAA</th>\n",
       "      <th>R_GTAA</th>\n",
       "      <th>R_TATC</th>\n",
       "      <th>R_HOMO_POLY_A</th>\n",
       "      <th>R_HOMO_POLY_T</th>\n",
       "      <th>R_HOMO_POLY_G</th>\n",
       "      <th>R_HOMO_POLY_C</th>\n",
       "      <th>R_PALINDROME</th>\n",
       "      <th>R_HAIRPIN</th>\n",
       "      <th>IS_ARTIFACT</th>\n",
       "    </tr>\n",
       "    <tr>\n",
       "      <th>CHROM</th>\n",
       "      <th>POS</th>\n",
       "      <th></th>\n",
       "      <th></th>\n",
       "      <th></th>\n",
       "      <th></th>\n",
       "      <th></th>\n",
       "      <th></th>\n",
       "      <th></th>\n",
       "      <th></th>\n",
       "      <th></th>\n",
       "      <th></th>\n",
       "      <th></th>\n",
       "      <th></th>\n",
       "      <th></th>\n",
       "      <th></th>\n",
       "      <th></th>\n",
       "      <th></th>\n",
       "      <th></th>\n",
       "      <th></th>\n",
       "      <th></th>\n",
       "      <th></th>\n",
       "      <th></th>\n",
       "    </tr>\n",
       "  </thead>\n",
       "  <tbody>\n",
       "    <tr>\n",
       "      <th rowspan=\"5\" valign=\"top\">chr1</th>\n",
       "      <th>826893</th>\n",
       "      <td>G</td>\n",
       "      <td>A</td>\n",
       "      <td>1.00</td>\n",
       "      <td>1.00</td>\n",
       "      <td>40</td>\n",
       "      <td>40</td>\n",
       "      <td>80.00</td>\n",
       "      <td>0.05</td>\n",
       "      <td>35.00</td>\n",
       "      <td>5.00</td>\n",
       "      <td>...</td>\n",
       "      <td>0</td>\n",
       "      <td>0</td>\n",
       "      <td>0</td>\n",
       "      <td>0</td>\n",
       "      <td>0</td>\n",
       "      <td>3</td>\n",
       "      <td>3</td>\n",
       "      <td>0</td>\n",
       "      <td>0</td>\n",
       "      <td>False</td>\n",
       "    </tr>\n",
       "    <tr>\n",
       "      <th>941119</th>\n",
       "      <td>A</td>\n",
       "      <td>G</td>\n",
       "      <td>1.00</td>\n",
       "      <td>1.00</td>\n",
       "      <td>8</td>\n",
       "      <td>8</td>\n",
       "      <td>16.00</td>\n",
       "      <td>0.38</td>\n",
       "      <td>15.00</td>\n",
       "      <td>5.00</td>\n",
       "      <td>...</td>\n",
       "      <td>0</td>\n",
       "      <td>0</td>\n",
       "      <td>0</td>\n",
       "      <td>0</td>\n",
       "      <td>0</td>\n",
       "      <td>0</td>\n",
       "      <td>5</td>\n",
       "      <td>0</td>\n",
       "      <td>0</td>\n",
       "      <td>False</td>\n",
       "    </tr>\n",
       "    <tr>\n",
       "      <th>944168</th>\n",
       "      <td>G</td>\n",
       "      <td>T</td>\n",
       "      <td>0.05</td>\n",
       "      <td>0.05</td>\n",
       "      <td>2</td>\n",
       "      <td>2</td>\n",
       "      <td>4.00</td>\n",
       "      <td>0.00</td>\n",
       "      <td>10.00</td>\n",
       "      <td>30.00</td>\n",
       "      <td>...</td>\n",
       "      <td>0</td>\n",
       "      <td>0</td>\n",
       "      <td>0</td>\n",
       "      <td>3</td>\n",
       "      <td>0</td>\n",
       "      <td>4</td>\n",
       "      <td>0</td>\n",
       "      <td>4</td>\n",
       "      <td>0</td>\n",
       "      <td>True</td>\n",
       "    </tr>\n",
       "    <tr>\n",
       "      <th>944858</th>\n",
       "      <td>A</td>\n",
       "      <td>G</td>\n",
       "      <td>1.00</td>\n",
       "      <td>1.00</td>\n",
       "      <td>67</td>\n",
       "      <td>67</td>\n",
       "      <td>134.00</td>\n",
       "      <td>0.01</td>\n",
       "      <td>35.00</td>\n",
       "      <td>15.00</td>\n",
       "      <td>...</td>\n",
       "      <td>0</td>\n",
       "      <td>0</td>\n",
       "      <td>0</td>\n",
       "      <td>0</td>\n",
       "      <td>0</td>\n",
       "      <td>0</td>\n",
       "      <td>0</td>\n",
       "      <td>4</td>\n",
       "      <td>0</td>\n",
       "      <td>False</td>\n",
       "    </tr>\n",
       "    <tr>\n",
       "      <th>946247</th>\n",
       "      <td>G</td>\n",
       "      <td>A</td>\n",
       "      <td>0.95</td>\n",
       "      <td>1.00</td>\n",
       "      <td>19</td>\n",
       "      <td>19</td>\n",
       "      <td>38.00</td>\n",
       "      <td>0.00</td>\n",
       "      <td>25.00</td>\n",
       "      <td>25.00</td>\n",
       "      <td>...</td>\n",
       "      <td>0</td>\n",
       "      <td>0</td>\n",
       "      <td>0</td>\n",
       "      <td>0</td>\n",
       "      <td>0</td>\n",
       "      <td>3</td>\n",
       "      <td>4</td>\n",
       "      <td>6</td>\n",
       "      <td>0</td>\n",
       "      <td>False</td>\n",
       "    </tr>\n",
       "  </tbody>\n",
       "</table>\n",
       "<p>5 rows × 541 columns</p>\n",
       "</div>"
      ],
      "text/plain": [
       "             REF ALT   AF  HIAF  HICNT  VD     SN  ADJAF   L_A   L_T  ...  \\\n",
       "CHROM POS                                                             ...   \n",
       "chr1  826893   G   A 1.00  1.00     40  40  80.00   0.05 35.00  5.00  ...   \n",
       "      941119   A   G 1.00  1.00      8   8  16.00   0.38 15.00  5.00  ...   \n",
       "      944168   G   T 0.05  0.05      2   2   4.00   0.00 10.00 30.00  ...   \n",
       "      944858   A   G 1.00  1.00     67  67 134.00   0.01 35.00 15.00  ...   \n",
       "      946247   G   A 0.95  1.00     19  19  38.00   0.00 25.00 25.00  ...   \n",
       "\n",
       "              R_TTAA  R_GTAA  R_TATC  R_HOMO_POLY_A  R_HOMO_POLY_T  \\\n",
       "CHROM POS                                                            \n",
       "chr1  826893       0       0       0              0              0   \n",
       "      941119       0       0       0              0              0   \n",
       "      944168       0       0       0              3              0   \n",
       "      944858       0       0       0              0              0   \n",
       "      946247       0       0       0              0              0   \n",
       "\n",
       "              R_HOMO_POLY_G  R_HOMO_POLY_C  R_PALINDROME  R_HAIRPIN  \\\n",
       "CHROM POS                                                             \n",
       "chr1  826893              3              3             0          0   \n",
       "      941119              0              5             0          0   \n",
       "      944168              4              0             4          0   \n",
       "      944858              0              0             4          0   \n",
       "      946247              3              4             6          0   \n",
       "\n",
       "              IS_ARTIFACT  \n",
       "CHROM POS                  \n",
       "chr1  826893        False  \n",
       "      941119        False  \n",
       "      944168         True  \n",
       "      944858        False  \n",
       "      946247        False  \n",
       "\n",
       "[5 rows x 541 columns]"
      ]
     },
     "execution_count": 3,
     "metadata": {},
     "output_type": "execute_result"
    }
   ],
   "source": [
    "df.head()"
   ]
  },
  {
   "cell_type": "code",
   "execution_count": null,
   "id": "bfe50158-382b-462a-a452-1091819b59cc",
   "metadata": {},
   "outputs": [
    {
     "name": "stdout",
     "output_type": "stream",
     "text": [
      "<class 'pandas.core.frame.DataFrame'>\n",
      "MultiIndex: 1834281 entries, ('chr1', '826893') to ('chrX', '143712338')\n",
      "Columns: 541 entries, REF to IS_ARTIFACT\n",
      "dtypes: bool(1), float64(12), int64(526), object(2)\n",
      "memory usage: 7.4+ GB\n"
     ]
    }
   ],
   "source": [
    "df.info()"
   ]
  },
  {
   "cell_type": "code",
   "execution_count": null,
   "id": "84e9e729-a561-4856-9b4a-95146909385a",
   "metadata": {},
   "outputs": [],
   "source": [
    "# Add content of each base\n",
    "for nt in ['A', 'T', 'C', 'G']:\n",
    "    df[nt] = df['L_'+nt] + df['R_'+nt]\n",
    "#df['A'] = df['L_A'] + df['R_A']"
   ]
  },
  {
   "cell_type": "code",
   "execution_count": null,
   "id": "5cd38235-7c8a-4069-9036-ab67a57af718",
   "metadata": {},
   "outputs": [
    {
     "name": "stdout",
     "output_type": "stream",
     "text": [
      "<class 'pandas.core.frame.DataFrame'>\n",
      "MultiIndex: 1834281 entries, ('chr1', '826893') to ('chrX', '143712338')\n",
      "Columns: 545 entries, REF to G\n",
      "dtypes: bool(1), float64(16), int64(526), object(2)\n",
      "memory usage: 7.5+ GB\n"
     ]
    }
   ],
   "source": [
    "df.info() # +4"
   ]
  },
  {
   "cell_type": "code",
   "execution_count": null,
   "id": "28e81f82-a0b5-46f7-b52e-b735c1159074",
   "metadata": {},
   "outputs": [],
   "source": [
    "# Max homopoly size of each base\n",
    "for nt in ['A', 'T', 'C', 'G']:\n",
    "    df['HOMO_POLY_'+nt] = df[['L_HOMO_POLY_'+nt, 'R_HOMO_POLY_'+nt]].max(axis=1)"
   ]
  },
  {
   "cell_type": "code",
   "execution_count": null,
   "id": "d6c41539-f74b-4c22-a654-e2111937287b",
   "metadata": {},
   "outputs": [
    {
     "name": "stdout",
     "output_type": "stream",
     "text": [
      "<class 'pandas.core.frame.DataFrame'>\n",
      "MultiIndex: 1834281 entries, ('chr1', '826893') to ('chrX', '143712338')\n",
      "Columns: 549 entries, REF to HOMO_POLY_G\n",
      "dtypes: bool(1), float64(16), int64(530), object(2)\n",
      "memory usage: 7.5+ GB\n"
     ]
    }
   ],
   "source": [
    "df.info() # +4"
   ]
  },
  {
   "cell_type": "code",
   "execution_count": null,
   "id": "3627f8c2-35b2-4000-a05e-bda4f5e48151",
   "metadata": {},
   "outputs": [],
   "source": [
    "# Max palindrome size \n",
    "df['PALINDROME'] = df[['L_PALINDROME', 'R_PALINDROME']].max(axis=1)"
   ]
  },
  {
   "cell_type": "code",
   "execution_count": 10,
   "id": "5f5e3e77-847a-4470-9b5d-a4bd9a2b32e2",
   "metadata": {},
   "outputs": [
    {
     "name": "stdout",
     "output_type": "stream",
     "text": [
      "<class 'pandas.core.frame.DataFrame'>\n",
      "MultiIndex: 1834281 entries, ('chr1', '826893') to ('chrX', '143712338')\n",
      "Columns: 550 entries, REF to PALINDROME\n",
      "dtypes: bool(1), float64(16), int64(531), object(2)\n",
      "memory usage: 7.5+ GB\n"
     ]
    }
   ],
   "source": [
    "df.info() # +1"
   ]
  },
  {
   "cell_type": "code",
   "execution_count": 11,
   "id": "e920c491-8eda-42ec-b630-3c076aa8c6ba",
   "metadata": {},
   "outputs": [],
   "source": [
    "# Max hairpin loop size \n",
    "df['HAIRPIN'] = df[['L_HAIRPIN', 'R_HAIRPIN']].max(axis=1)"
   ]
  },
  {
   "cell_type": "code",
   "execution_count": 12,
   "id": "640d0712-fd7c-4e5c-becc-3f07a7744889",
   "metadata": {},
   "outputs": [
    {
     "name": "stdout",
     "output_type": "stream",
     "text": [
      "<class 'pandas.core.frame.DataFrame'>\n",
      "MultiIndex: 1834281 entries, ('chr1', '826893') to ('chrX', '143712338')\n",
      "Columns: 551 entries, REF to HAIRPIN\n",
      "dtypes: bool(1), float64(16), int64(532), object(2)\n",
      "memory usage: 7.5+ GB\n"
     ]
    }
   ],
   "source": [
    "df.info() # +1"
   ]
  },
  {
   "cell_type": "code",
   "execution_count": 13,
   "id": "01187391-92b4-447c-9269-867b1f5a3b8c",
   "metadata": {},
   "outputs": [],
   "source": [
    "# Add each kmer type\n",
    "nt = ['A', 'T', 'C', 'G']\n",
    "kmers = [n1+n2+n3+n4 for n1 in nt for n2 in nt for n3 in nt for n4 in nt] \n",
    "# looks like: ['AAAA', 'AAAT', 'AAAC',..]\n",
    "\n",
    "for kmer in kmers:\n",
    "    df[kmer] = df['L_'+kmer] + df['R_'+kmer]"
   ]
  },
  {
   "cell_type": "code",
   "execution_count": 14,
   "id": "2c92d6c9-8f1f-4451-8553-c5bf0ae33b9d",
   "metadata": {},
   "outputs": [
    {
     "name": "stdout",
     "output_type": "stream",
     "text": [
      "<class 'pandas.core.frame.DataFrame'>\n",
      "MultiIndex: 1834281 entries, ('chr1', '826893') to ('chrX', '143712338')\n",
      "Columns: 807 entries, REF to GGGG\n",
      "dtypes: bool(1), float64(16), int64(788), object(2)\n",
      "memory usage: 11.0+ GB\n"
     ]
    }
   ],
   "source": [
    "df.info() # +256"
   ]
  },
  {
   "cell_type": "code",
   "execution_count": 15,
   "id": "8ae5538e-5904-4d36-91aa-eb5199906562",
   "metadata": {},
   "outputs": [
    {
     "data": {
      "text/html": [
       "<div>\n",
       "<style scoped>\n",
       "    .dataframe tbody tr th:only-of-type {\n",
       "        vertical-align: middle;\n",
       "    }\n",
       "\n",
       "    .dataframe tbody tr th {\n",
       "        vertical-align: top;\n",
       "    }\n",
       "\n",
       "    .dataframe thead th {\n",
       "        text-align: right;\n",
       "    }\n",
       "</style>\n",
       "<table border=\"1\" class=\"dataframe\">\n",
       "  <thead>\n",
       "    <tr style=\"text-align: right;\">\n",
       "      <th></th>\n",
       "      <th></th>\n",
       "      <th>REF</th>\n",
       "      <th>ALT</th>\n",
       "      <th>AF</th>\n",
       "      <th>HIAF</th>\n",
       "      <th>HICNT</th>\n",
       "      <th>VD</th>\n",
       "      <th>SN</th>\n",
       "      <th>ADJAF</th>\n",
       "      <th>L_A</th>\n",
       "      <th>L_T</th>\n",
       "      <th>...</th>\n",
       "      <th>GGTC</th>\n",
       "      <th>GGTG</th>\n",
       "      <th>GGCA</th>\n",
       "      <th>GGCT</th>\n",
       "      <th>GGCC</th>\n",
       "      <th>GGCG</th>\n",
       "      <th>GGGA</th>\n",
       "      <th>GGGT</th>\n",
       "      <th>GGGC</th>\n",
       "      <th>GGGG</th>\n",
       "    </tr>\n",
       "    <tr>\n",
       "      <th>CHROM</th>\n",
       "      <th>POS</th>\n",
       "      <th></th>\n",
       "      <th></th>\n",
       "      <th></th>\n",
       "      <th></th>\n",
       "      <th></th>\n",
       "      <th></th>\n",
       "      <th></th>\n",
       "      <th></th>\n",
       "      <th></th>\n",
       "      <th></th>\n",
       "      <th></th>\n",
       "      <th></th>\n",
       "      <th></th>\n",
       "      <th></th>\n",
       "      <th></th>\n",
       "      <th></th>\n",
       "      <th></th>\n",
       "      <th></th>\n",
       "      <th></th>\n",
       "      <th></th>\n",
       "      <th></th>\n",
       "    </tr>\n",
       "  </thead>\n",
       "  <tbody>\n",
       "    <tr>\n",
       "      <th rowspan=\"5\" valign=\"top\">chr1</th>\n",
       "      <th>826893</th>\n",
       "      <td>G</td>\n",
       "      <td>A</td>\n",
       "      <td>1.00</td>\n",
       "      <td>1.00</td>\n",
       "      <td>40</td>\n",
       "      <td>40</td>\n",
       "      <td>80.00</td>\n",
       "      <td>0.05</td>\n",
       "      <td>35.00</td>\n",
       "      <td>5.00</td>\n",
       "      <td>...</td>\n",
       "      <td>0</td>\n",
       "      <td>0</td>\n",
       "      <td>0</td>\n",
       "      <td>0</td>\n",
       "      <td>0</td>\n",
       "      <td>0</td>\n",
       "      <td>1</td>\n",
       "      <td>0</td>\n",
       "      <td>0</td>\n",
       "      <td>0</td>\n",
       "    </tr>\n",
       "    <tr>\n",
       "      <th>941119</th>\n",
       "      <td>A</td>\n",
       "      <td>G</td>\n",
       "      <td>1.00</td>\n",
       "      <td>1.00</td>\n",
       "      <td>8</td>\n",
       "      <td>8</td>\n",
       "      <td>16.00</td>\n",
       "      <td>0.38</td>\n",
       "      <td>15.00</td>\n",
       "      <td>5.00</td>\n",
       "      <td>...</td>\n",
       "      <td>0</td>\n",
       "      <td>0</td>\n",
       "      <td>0</td>\n",
       "      <td>0</td>\n",
       "      <td>0</td>\n",
       "      <td>1</td>\n",
       "      <td>0</td>\n",
       "      <td>0</td>\n",
       "      <td>1</td>\n",
       "      <td>3</td>\n",
       "    </tr>\n",
       "    <tr>\n",
       "      <th>944168</th>\n",
       "      <td>G</td>\n",
       "      <td>T</td>\n",
       "      <td>0.05</td>\n",
       "      <td>0.05</td>\n",
       "      <td>2</td>\n",
       "      <td>2</td>\n",
       "      <td>4.00</td>\n",
       "      <td>0.00</td>\n",
       "      <td>10.00</td>\n",
       "      <td>30.00</td>\n",
       "      <td>...</td>\n",
       "      <td>0</td>\n",
       "      <td>1</td>\n",
       "      <td>0</td>\n",
       "      <td>0</td>\n",
       "      <td>1</td>\n",
       "      <td>0</td>\n",
       "      <td>0</td>\n",
       "      <td>2</td>\n",
       "      <td>1</td>\n",
       "      <td>3</td>\n",
       "    </tr>\n",
       "    <tr>\n",
       "      <th>944858</th>\n",
       "      <td>A</td>\n",
       "      <td>G</td>\n",
       "      <td>1.00</td>\n",
       "      <td>1.00</td>\n",
       "      <td>67</td>\n",
       "      <td>67</td>\n",
       "      <td>134.00</td>\n",
       "      <td>0.01</td>\n",
       "      <td>35.00</td>\n",
       "      <td>15.00</td>\n",
       "      <td>...</td>\n",
       "      <td>0</td>\n",
       "      <td>0</td>\n",
       "      <td>0</td>\n",
       "      <td>0</td>\n",
       "      <td>0</td>\n",
       "      <td>0</td>\n",
       "      <td>0</td>\n",
       "      <td>0</td>\n",
       "      <td>0</td>\n",
       "      <td>0</td>\n",
       "    </tr>\n",
       "    <tr>\n",
       "      <th>946247</th>\n",
       "      <td>G</td>\n",
       "      <td>A</td>\n",
       "      <td>0.95</td>\n",
       "      <td>1.00</td>\n",
       "      <td>19</td>\n",
       "      <td>19</td>\n",
       "      <td>38.00</td>\n",
       "      <td>0.00</td>\n",
       "      <td>25.00</td>\n",
       "      <td>25.00</td>\n",
       "      <td>...</td>\n",
       "      <td>1</td>\n",
       "      <td>1</td>\n",
       "      <td>0</td>\n",
       "      <td>1</td>\n",
       "      <td>0</td>\n",
       "      <td>0</td>\n",
       "      <td>0</td>\n",
       "      <td>1</td>\n",
       "      <td>0</td>\n",
       "      <td>0</td>\n",
       "    </tr>\n",
       "  </tbody>\n",
       "</table>\n",
       "<p>5 rows × 807 columns</p>\n",
       "</div>"
      ],
      "text/plain": [
       "             REF ALT   AF  HIAF  HICNT  VD     SN  ADJAF   L_A   L_T  ...  \\\n",
       "CHROM POS                                                             ...   \n",
       "chr1  826893   G   A 1.00  1.00     40  40  80.00   0.05 35.00  5.00  ...   \n",
       "      941119   A   G 1.00  1.00      8   8  16.00   0.38 15.00  5.00  ...   \n",
       "      944168   G   T 0.05  0.05      2   2   4.00   0.00 10.00 30.00  ...   \n",
       "      944858   A   G 1.00  1.00     67  67 134.00   0.01 35.00 15.00  ...   \n",
       "      946247   G   A 0.95  1.00     19  19  38.00   0.00 25.00 25.00  ...   \n",
       "\n",
       "              GGTC  GGTG  GGCA  GGCT  GGCC  GGCG  GGGA  GGGT  GGGC  GGGG  \n",
       "CHROM POS                                                                 \n",
       "chr1  826893     0     0     0     0     0     0     1     0     0     0  \n",
       "      941119     0     0     0     0     0     1     0     0     1     3  \n",
       "      944168     0     1     0     0     1     0     0     2     1     3  \n",
       "      944858     0     0     0     0     0     0     0     0     0     0  \n",
       "      946247     1     1     0     1     0     0     0     1     0     0  \n",
       "\n",
       "[5 rows x 807 columns]"
      ]
     },
     "execution_count": 15,
     "metadata": {},
     "output_type": "execute_result"
    }
   ],
   "source": [
    "df.head()"
   ]
  },
  {
   "cell_type": "code",
   "execution_count": 18,
   "id": "5effcdeb-ba4b-4f76-83af-1c3153d81052",
   "metadata": {},
   "outputs": [],
   "source": [
    "# Remove all the L and R features since we have combined features now\n",
    "\n",
    "# Remove L and R content of each base\n",
    "for nt in ['A', 'T', 'C', 'G']:\n",
    "    df.drop(columns=['L_'+nt, 'R_'+nt], axis=1, inplace=True)"
   ]
  },
  {
   "cell_type": "code",
   "execution_count": 19,
   "id": "a09c5b3b-849b-4f8c-bb45-00af800fab11",
   "metadata": {},
   "outputs": [
    {
     "name": "stdout",
     "output_type": "stream",
     "text": [
      "<class 'pandas.core.frame.DataFrame'>\n",
      "MultiIndex: 1834281 entries, ('chr1', '826893') to ('chrX', '143712338')\n",
      "Columns: 799 entries, REF to GGGG\n",
      "dtypes: bool(1), float64(8), int64(788), object(2)\n",
      "memory usage: 10.9+ GB\n"
     ]
    }
   ],
   "source": [
    "df.info() # -8"
   ]
  },
  {
   "cell_type": "code",
   "execution_count": 20,
   "id": "2102a359-081f-46c2-a09c-0f435afec463",
   "metadata": {},
   "outputs": [],
   "source": [
    "# Remove L and R homopoly size of each base\n",
    "for nt in ['A', 'T', 'C', 'G']:\n",
    "    df.drop(columns=['L_HOMO_POLY_'+nt, 'R_HOMO_POLY_'+nt], axis=1, inplace=True)"
   ]
  },
  {
   "cell_type": "code",
   "execution_count": 21,
   "id": "70fd1ca1-ac16-4db5-a68d-c651f6987e8f",
   "metadata": {},
   "outputs": [
    {
     "name": "stdout",
     "output_type": "stream",
     "text": [
      "<class 'pandas.core.frame.DataFrame'>\n",
      "MultiIndex: 1834281 entries, ('chr1', '826893') to ('chrX', '143712338')\n",
      "Columns: 791 entries, REF to GGGG\n",
      "dtypes: bool(1), float64(8), int64(780), object(2)\n",
      "memory usage: 10.8+ GB\n"
     ]
    }
   ],
   "source": [
    "df.info() # -8"
   ]
  },
  {
   "cell_type": "code",
   "execution_count": 22,
   "id": "195742c4-f6fe-42f0-bcfd-c83d4149a6a8",
   "metadata": {},
   "outputs": [],
   "source": [
    "# Remove L and R palindrome size \n",
    "df.drop(columns=['L_PALINDROME', 'R_PALINDROME'], axis=1, inplace=True)"
   ]
  },
  {
   "cell_type": "code",
   "execution_count": 23,
   "id": "6264e7ff-7e05-4ef9-b014-fb8c5d1d6e44",
   "metadata": {},
   "outputs": [
    {
     "name": "stdout",
     "output_type": "stream",
     "text": [
      "<class 'pandas.core.frame.DataFrame'>\n",
      "MultiIndex: 1834281 entries, ('chr1', '826893') to ('chrX', '143712338')\n",
      "Columns: 789 entries, REF to GGGG\n",
      "dtypes: bool(1), float64(8), int64(778), object(2)\n",
      "memory usage: 10.8+ GB\n"
     ]
    }
   ],
   "source": [
    "df.info() # -2"
   ]
  },
  {
   "cell_type": "code",
   "execution_count": 24,
   "id": "267db2ed-a9a8-450d-97c6-6c24103b6ac3",
   "metadata": {},
   "outputs": [],
   "source": [
    "# Remove L and R hairpin loop size \n",
    "df.drop(columns=['L_HAIRPIN', 'R_HAIRPIN'], axis=1, inplace=True)"
   ]
  },
  {
   "cell_type": "code",
   "execution_count": 25,
   "id": "6e0acae1-cc88-4661-9a8e-d14c0cb33ec2",
   "metadata": {},
   "outputs": [
    {
     "name": "stdout",
     "output_type": "stream",
     "text": [
      "<class 'pandas.core.frame.DataFrame'>\n",
      "MultiIndex: 1834281 entries, ('chr1', '826893') to ('chrX', '143712338')\n",
      "Columns: 787 entries, REF to GGGG\n",
      "dtypes: bool(1), float64(8), int64(776), object(2)\n",
      "memory usage: 10.8+ GB\n"
     ]
    }
   ],
   "source": [
    "df.info() # -2"
   ]
  },
  {
   "cell_type": "code",
   "execution_count": 26,
   "id": "0631fa38-fbbf-43a7-9aa9-b785f336f8d5",
   "metadata": {},
   "outputs": [],
   "source": [
    "# Remove L and R of each kmer type\n",
    "for kmer in kmers:\n",
    "    df.drop(columns=['L_'+kmer, 'R_'+kmer], axis=1, inplace=True)"
   ]
  },
  {
   "cell_type": "code",
   "execution_count": 27,
   "id": "35fcb261-7dba-4e29-af0e-45bbcff79667",
   "metadata": {},
   "outputs": [
    {
     "name": "stdout",
     "output_type": "stream",
     "text": [
      "<class 'pandas.core.frame.DataFrame'>\n",
      "MultiIndex: 1834281 entries, ('chr1', '826893') to ('chrX', '143712338')\n",
      "Columns: 275 entries, REF to GGGG\n",
      "dtypes: bool(1), float64(8), int64(264), object(2)\n",
      "memory usage: 3.8+ GB\n"
     ]
    }
   ],
   "source": [
    "df.info() # -512"
   ]
  },
  {
   "cell_type": "code",
   "execution_count": 29,
   "id": "b56c161e-64f1-462e-91bc-cabc825f2e24",
   "metadata": {},
   "outputs": [],
   "source": [
    "df.to_pickle('ML_df_joined_LR_feats.pkl') "
   ]
  },
  {
   "cell_type": "code",
   "execution_count": null,
   "id": "8ea5e4a7-224f-421c-ba69-5254b90ba192",
   "metadata": {},
   "outputs": [],
   "source": []
  },
  {
   "cell_type": "code",
   "execution_count": null,
   "id": "18f369c9-7445-4160-868e-a8a30f70f158",
   "metadata": {},
   "outputs": [],
   "source": []
  },
  {
   "cell_type": "code",
   "execution_count": null,
   "id": "9e7e5a8d-a770-4400-a281-49cea9f51c02",
   "metadata": {},
   "outputs": [],
   "source": []
  },
  {
   "cell_type": "markdown",
   "id": "062892d4-3d0e-4868-a362-78380158c7de",
   "metadata": {},
   "source": [
    "# Try joining L and R features into 1 feature BY ADDING"
   ]
  },
  {
   "cell_type": "code",
   "execution_count": 21,
   "id": "f63d7247-6f40-45ea-9a7c-00df6731bb44",
   "metadata": {},
   "outputs": [],
   "source": [
    "df = pd.read_pickle('ML_df.pkl')"
   ]
  },
  {
   "cell_type": "code",
   "execution_count": 22,
   "id": "dd54cdc0-298f-484d-985b-02e5d9d84929",
   "metadata": {},
   "outputs": [
    {
     "data": {
      "text/html": [
       "<div>\n",
       "<style scoped>\n",
       "    .dataframe tbody tr th:only-of-type {\n",
       "        vertical-align: middle;\n",
       "    }\n",
       "\n",
       "    .dataframe tbody tr th {\n",
       "        vertical-align: top;\n",
       "    }\n",
       "\n",
       "    .dataframe thead th {\n",
       "        text-align: right;\n",
       "    }\n",
       "</style>\n",
       "<table border=\"1\" class=\"dataframe\">\n",
       "  <thead>\n",
       "    <tr style=\"text-align: right;\">\n",
       "      <th></th>\n",
       "      <th></th>\n",
       "      <th>REF</th>\n",
       "      <th>ALT</th>\n",
       "      <th>AF</th>\n",
       "      <th>HIAF</th>\n",
       "      <th>HICNT</th>\n",
       "      <th>VD</th>\n",
       "      <th>SN</th>\n",
       "      <th>ADJAF</th>\n",
       "      <th>L_A</th>\n",
       "      <th>L_T</th>\n",
       "      <th>...</th>\n",
       "      <th>R_TTAA</th>\n",
       "      <th>R_GTAA</th>\n",
       "      <th>R_TATC</th>\n",
       "      <th>R_HOMO_POLY_A</th>\n",
       "      <th>R_HOMO_POLY_T</th>\n",
       "      <th>R_HOMO_POLY_G</th>\n",
       "      <th>R_HOMO_POLY_C</th>\n",
       "      <th>R_PALINDROME</th>\n",
       "      <th>R_HAIRPIN</th>\n",
       "      <th>IS_ARTIFACT</th>\n",
       "    </tr>\n",
       "    <tr>\n",
       "      <th>CHROM</th>\n",
       "      <th>POS</th>\n",
       "      <th></th>\n",
       "      <th></th>\n",
       "      <th></th>\n",
       "      <th></th>\n",
       "      <th></th>\n",
       "      <th></th>\n",
       "      <th></th>\n",
       "      <th></th>\n",
       "      <th></th>\n",
       "      <th></th>\n",
       "      <th></th>\n",
       "      <th></th>\n",
       "      <th></th>\n",
       "      <th></th>\n",
       "      <th></th>\n",
       "      <th></th>\n",
       "      <th></th>\n",
       "      <th></th>\n",
       "      <th></th>\n",
       "      <th></th>\n",
       "      <th></th>\n",
       "    </tr>\n",
       "  </thead>\n",
       "  <tbody>\n",
       "    <tr>\n",
       "      <th rowspan=\"5\" valign=\"top\">chr1</th>\n",
       "      <th>826893</th>\n",
       "      <td>G</td>\n",
       "      <td>A</td>\n",
       "      <td>1.00</td>\n",
       "      <td>1.00</td>\n",
       "      <td>40</td>\n",
       "      <td>40</td>\n",
       "      <td>80.00</td>\n",
       "      <td>0.05</td>\n",
       "      <td>35.00</td>\n",
       "      <td>5.00</td>\n",
       "      <td>...</td>\n",
       "      <td>0</td>\n",
       "      <td>0</td>\n",
       "      <td>0</td>\n",
       "      <td>0</td>\n",
       "      <td>0</td>\n",
       "      <td>3</td>\n",
       "      <td>3</td>\n",
       "      <td>0</td>\n",
       "      <td>0</td>\n",
       "      <td>False</td>\n",
       "    </tr>\n",
       "    <tr>\n",
       "      <th>941119</th>\n",
       "      <td>A</td>\n",
       "      <td>G</td>\n",
       "      <td>1.00</td>\n",
       "      <td>1.00</td>\n",
       "      <td>8</td>\n",
       "      <td>8</td>\n",
       "      <td>16.00</td>\n",
       "      <td>0.38</td>\n",
       "      <td>15.00</td>\n",
       "      <td>5.00</td>\n",
       "      <td>...</td>\n",
       "      <td>0</td>\n",
       "      <td>0</td>\n",
       "      <td>0</td>\n",
       "      <td>0</td>\n",
       "      <td>0</td>\n",
       "      <td>0</td>\n",
       "      <td>5</td>\n",
       "      <td>0</td>\n",
       "      <td>0</td>\n",
       "      <td>False</td>\n",
       "    </tr>\n",
       "    <tr>\n",
       "      <th>944168</th>\n",
       "      <td>G</td>\n",
       "      <td>T</td>\n",
       "      <td>0.05</td>\n",
       "      <td>0.05</td>\n",
       "      <td>2</td>\n",
       "      <td>2</td>\n",
       "      <td>4.00</td>\n",
       "      <td>0.00</td>\n",
       "      <td>10.00</td>\n",
       "      <td>30.00</td>\n",
       "      <td>...</td>\n",
       "      <td>0</td>\n",
       "      <td>0</td>\n",
       "      <td>0</td>\n",
       "      <td>3</td>\n",
       "      <td>0</td>\n",
       "      <td>4</td>\n",
       "      <td>0</td>\n",
       "      <td>4</td>\n",
       "      <td>0</td>\n",
       "      <td>True</td>\n",
       "    </tr>\n",
       "    <tr>\n",
       "      <th>944858</th>\n",
       "      <td>A</td>\n",
       "      <td>G</td>\n",
       "      <td>1.00</td>\n",
       "      <td>1.00</td>\n",
       "      <td>67</td>\n",
       "      <td>67</td>\n",
       "      <td>134.00</td>\n",
       "      <td>0.01</td>\n",
       "      <td>35.00</td>\n",
       "      <td>15.00</td>\n",
       "      <td>...</td>\n",
       "      <td>0</td>\n",
       "      <td>0</td>\n",
       "      <td>0</td>\n",
       "      <td>0</td>\n",
       "      <td>0</td>\n",
       "      <td>0</td>\n",
       "      <td>0</td>\n",
       "      <td>4</td>\n",
       "      <td>0</td>\n",
       "      <td>False</td>\n",
       "    </tr>\n",
       "    <tr>\n",
       "      <th>946247</th>\n",
       "      <td>G</td>\n",
       "      <td>A</td>\n",
       "      <td>0.95</td>\n",
       "      <td>1.00</td>\n",
       "      <td>19</td>\n",
       "      <td>19</td>\n",
       "      <td>38.00</td>\n",
       "      <td>0.00</td>\n",
       "      <td>25.00</td>\n",
       "      <td>25.00</td>\n",
       "      <td>...</td>\n",
       "      <td>0</td>\n",
       "      <td>0</td>\n",
       "      <td>0</td>\n",
       "      <td>0</td>\n",
       "      <td>0</td>\n",
       "      <td>3</td>\n",
       "      <td>4</td>\n",
       "      <td>6</td>\n",
       "      <td>0</td>\n",
       "      <td>False</td>\n",
       "    </tr>\n",
       "  </tbody>\n",
       "</table>\n",
       "<p>5 rows × 541 columns</p>\n",
       "</div>"
      ],
      "text/plain": [
       "             REF ALT   AF  HIAF  HICNT  VD     SN  ADJAF   L_A   L_T  ...  \\\n",
       "CHROM POS                                                             ...   \n",
       "chr1  826893   G   A 1.00  1.00     40  40  80.00   0.05 35.00  5.00  ...   \n",
       "      941119   A   G 1.00  1.00      8   8  16.00   0.38 15.00  5.00  ...   \n",
       "      944168   G   T 0.05  0.05      2   2   4.00   0.00 10.00 30.00  ...   \n",
       "      944858   A   G 1.00  1.00     67  67 134.00   0.01 35.00 15.00  ...   \n",
       "      946247   G   A 0.95  1.00     19  19  38.00   0.00 25.00 25.00  ...   \n",
       "\n",
       "              R_TTAA  R_GTAA  R_TATC  R_HOMO_POLY_A  R_HOMO_POLY_T  \\\n",
       "CHROM POS                                                            \n",
       "chr1  826893       0       0       0              0              0   \n",
       "      941119       0       0       0              0              0   \n",
       "      944168       0       0       0              3              0   \n",
       "      944858       0       0       0              0              0   \n",
       "      946247       0       0       0              0              0   \n",
       "\n",
       "              R_HOMO_POLY_G  R_HOMO_POLY_C  R_PALINDROME  R_HAIRPIN  \\\n",
       "CHROM POS                                                             \n",
       "chr1  826893              3              3             0          0   \n",
       "      941119              0              5             0          0   \n",
       "      944168              4              0             4          0   \n",
       "      944858              0              0             4          0   \n",
       "      946247              3              4             6          0   \n",
       "\n",
       "              IS_ARTIFACT  \n",
       "CHROM POS                  \n",
       "chr1  826893        False  \n",
       "      941119        False  \n",
       "      944168         True  \n",
       "      944858        False  \n",
       "      946247        False  \n",
       "\n",
       "[5 rows x 541 columns]"
      ]
     },
     "execution_count": 22,
     "metadata": {},
     "output_type": "execute_result"
    }
   ],
   "source": [
    "df.head()"
   ]
  },
  {
   "cell_type": "code",
   "execution_count": 23,
   "id": "5c0642f8-3ba1-4cdb-8ad8-13c853b245f6",
   "metadata": {},
   "outputs": [],
   "source": [
    "# Add content of each base\n",
    "for nt in ['A', 'T', 'C', 'G']:\n",
    "    df[nt] = df['L_'+nt] + df['R_'+nt]"
   ]
  },
  {
   "cell_type": "code",
   "execution_count": 24,
   "id": "6efff727-083b-4511-b654-e8dbd4f39472",
   "metadata": {},
   "outputs": [],
   "source": [
    "# Add homopoly size of each base\n",
    "for nt in ['A', 'T', 'C', 'G']:\n",
    "    df['HOMO_POLY_'+nt] = df['L_HOMO_POLY_'+nt] + df['R_HOMO_POLY_'+nt]"
   ]
  },
  {
   "cell_type": "code",
   "execution_count": 30,
   "id": "b4e7c0d1-37f0-46c4-9016-211a117a0b45",
   "metadata": {},
   "outputs": [],
   "source": [
    "# Max palindrome size \n",
    "df['PALINDROME'] = df['L_PALINDROME'] + df['R_PALINDROME']"
   ]
  },
  {
   "cell_type": "code",
   "execution_count": 26,
   "id": "c0f305d0-0e2e-4ed8-8953-d109a933d916",
   "metadata": {},
   "outputs": [],
   "source": [
    "# Add hairpin loop size \n",
    "df['HAIRPIN'] = df['L_HAIRPIN'] + df['R_HAIRPIN']"
   ]
  },
  {
   "cell_type": "code",
   "execution_count": 27,
   "id": "1830439c-9238-4f04-adde-8d03942fccfa",
   "metadata": {},
   "outputs": [],
   "source": [
    "# Add each kmer type\n",
    "nt = ['A', 'T', 'C', 'G']\n",
    "kmers = [n1+n2+n3+n4 for n1 in nt for n2 in nt for n3 in nt for n4 in nt] \n",
    "# looks like: ['AAAA', 'AAAT', 'AAAC',..]\n",
    "\n",
    "for kmer in kmers:\n",
    "    df[kmer] = df['L_'+kmer] + df['R_'+kmer]"
   ]
  },
  {
   "cell_type": "code",
   "execution_count": 32,
   "id": "4350ccbc-d76b-4bea-883d-b01f4f3a730c",
   "metadata": {},
   "outputs": [],
   "source": [
    "# Remove all the L and R features since we have combined features now\n",
    "\n",
    "# Remove L and R content of each base\n",
    "for nt in ['A', 'T', 'C', 'G']:\n",
    "    df.drop(columns=['L_'+nt, 'R_'+nt], axis=1, inplace=True)"
   ]
  },
  {
   "cell_type": "code",
   "execution_count": 33,
   "id": "06df980b-950c-4efb-afca-d03817787c44",
   "metadata": {},
   "outputs": [],
   "source": [
    "# Remove L and R homopoly size of each base\n",
    "for nt in ['A', 'T', 'C', 'G']:\n",
    "    df.drop(columns=['L_HOMO_POLY_'+nt, 'R_HOMO_POLY_'+nt], axis=1, inplace=True)"
   ]
  },
  {
   "cell_type": "code",
   "execution_count": 34,
   "id": "c1f66a09-48bf-4ece-a0cd-883f3a0dec78",
   "metadata": {},
   "outputs": [],
   "source": [
    "# Remove L and R palindrome size \n",
    "df.drop(columns=['L_PALINDROME', 'R_PALINDROME'], axis=1, inplace=True)"
   ]
  },
  {
   "cell_type": "code",
   "execution_count": 35,
   "id": "d594bfdb-d0f5-440d-bb64-39452a728d1a",
   "metadata": {},
   "outputs": [],
   "source": [
    "# Remove L and R hairpin loop size \n",
    "df.drop(columns=['L_HAIRPIN', 'R_HAIRPIN'], axis=1, inplace=True)"
   ]
  },
  {
   "cell_type": "code",
   "execution_count": null,
   "id": "81324d55-f255-4cb5-897b-3d7c9a4d8d54",
   "metadata": {},
   "outputs": [],
   "source": [
    "# Remove L and R of each kmer type\n",
    "for kmer in kmers:\n",
    "    df.drop(columns=['L_'+kmer, 'R_'+kmer], axis=1, inplace=True)"
   ]
  },
  {
   "cell_type": "code",
   "execution_count": null,
   "id": "7a9242a2-0440-4c24-ab3a-3c1fd93d55bb",
   "metadata": {},
   "outputs": [],
   "source": [
    "df.info() # 275"
   ]
  },
  {
   "cell_type": "code",
   "execution_count": null,
   "id": "7b8ee6f9-1629-41c7-ba46-2c0a0bde52ab",
   "metadata": {},
   "outputs": [],
   "source": [
    "df.to_pickle('ML_df_add_LR_feats.pkl') "
   ]
  }
 ],
 "metadata": {
  "kernelspec": {
   "display_name": "Python 3 (ipykernel)",
   "language": "python",
   "name": "python3"
  },
  "language_info": {
   "codemirror_mode": {
    "name": "ipython",
    "version": 3
   },
   "file_extension": ".py",
   "mimetype": "text/x-python",
   "name": "python",
   "nbconvert_exporter": "python",
   "pygments_lexer": "ipython3",
   "version": "3.10.6"
  }
 },
 "nbformat": 4,
 "nbformat_minor": 5
}
